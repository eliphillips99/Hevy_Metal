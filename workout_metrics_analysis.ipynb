{
 "cells": [
  {
   "cell_type": "markdown",
   "id": "a0d022ce",
   "metadata": {},
   "source": [
    "# Define Data Structure for Workout Metrics\n",
    "Create a Python dictionary or class to store workout metrics such as pumps, fatigue, listening preferences, and notes."
   ]
  },
  {
   "cell_type": "code",
   "execution_count": null,
   "id": "640dbc37",
   "metadata": {},
   "outputs": [],
   "source": [
    "# Define a data structure for workout metrics\n",
    "class WorkoutMetrics:\n",
    "    def __init__(self):\n",
    "        self.metrics = {\n",
    "            \"pumps\": {},\n",
    "            \"fatigue\": {\n",
    "                \"pre_workout\": None,\n",
    "                \"post_workout\": None,\n",
    "                \"mental_fatigue\": None\n",
    "            },\n",
    "            \"listening_preferences\": \"\",\n",
    "            \"notes\": \"\"\n",
    "        }\n",
    "    \n",
    "    def __repr__(self):\n",
    "        return str(self.metrics)"
   ]
  },
  {
   "cell_type": "markdown",
   "id": "6e0d5900",
   "metadata": {},
   "source": [
    "# Input Pump Ratings\n",
    "Allow the user to input pump ratings for different muscle groups on a scale of 1-4."
   ]
  },
  {
   "cell_type": "code",
   "execution_count": null,
   "id": "ca6d3ae9",
   "metadata": {},
   "outputs": [],
   "source": [
    "# Function to input pump ratings\n",
    "def input_pump_ratings(workout_metrics):\n",
    "    muscle_groups = [\"chest\", \"back\", \"legs\", \"arms\", \"shoulders\"]\n",
    "    for muscle in muscle_groups:\n",
    "        while True:\n",
    "            try:\n",
    "                rating = int(input(f\"Rate your pump for {muscle} (1-4): \"))\n",
    "                if 1 <= rating <= 4:\n",
    "                    workout_metrics.metrics[\"pumps\"][muscle] = rating\n",
    "                    break\n",
    "                else:\n",
    "                    print(\"Please enter a number between 1 and 4.\")\n",
    "            except ValueError:\n",
    "                print(\"Invalid input. Please enter a number.\")"
   ]
  },
  {
   "cell_type": "markdown",
   "id": "b8b9c72f",
   "metadata": {},
   "source": [
    "# Input Fatigue Levels\n",
    "Allow the user to input fatigue levels (pre-workout, post-workout, and mental fatigue) on a scale of 1-4."
   ]
  },
  {
   "cell_type": "code",
   "execution_count": null,
   "id": "62b23415",
   "metadata": {},
   "outputs": [],
   "source": [
    "# Function to input fatigue levels\n",
    "def input_fatigue_levels(workout_metrics):\n",
    "    fatigue_types = [\"pre_workout\", \"post_workout\", \"mental_fatigue\"]\n",
    "    for fatigue in fatigue_types:\n",
    "        while True:\n",
    "            try:\n",
    "                level = int(input(f\"Rate your {fatigue.replace('_', ' ')} fatigue (1-4): \"))\n",
    "                if 1 <= level <= 4:\n",
    "                    workout_metrics.metrics[\"fatigue\"][fatigue] = level\n",
    "                    break\n",
    "                else:\n",
    "                    print(\"Please enter a number between 1 and 4.\")\n",
    "            except ValueError:\n",
    "                print(\"Invalid input. Please enter a number.\")"
   ]
  },
  {
   "cell_type": "markdown",
   "id": "702c6fe3",
   "metadata": {},
   "source": [
    "# Log Listening Preferences\n",
    "Provide a way to log what the user listened to during the workout (e.g., podcasts, music)."
   ]
  },
  {
   "cell_type": "code",
   "execution_count": null,
   "id": "82dac56c",
   "metadata": {},
   "outputs": [],
   "source": [
    "# Function to log listening preferences\n",
    "def log_listening_preferences(workout_metrics):\n",
    "    listening = input(\"What did you listen to during your workout (e.g., podcasts, music)? \")\n",
    "    workout_metrics.metrics[\"listening_preferences\"] = listening"
   ]
  },
  {
   "cell_type": "markdown",
   "id": "5e78aae4",
   "metadata": {},
   "source": [
    "# Add Workout Notes\n",
    "Allow the user to add notes about the workout, such as challenges or observations."
   ]
  },
  {
   "cell_type": "code",
   "execution_count": null,
   "id": "42d5ad47",
   "metadata": {},
   "outputs": [],
   "source": [
    "# Function to add workout notes\n",
    "def add_workout_notes(workout_metrics):\n",
    "    notes = input(\"Add any notes about your workout (e.g., challenges, observations): \")\n",
    "    workout_metrics.metrics[\"notes\"] = notes"
   ]
  },
  {
   "cell_type": "markdown",
   "id": "389a05ad",
   "metadata": {},
   "source": [
    "# Display Summary of Workout\n",
    "Generate a summary of the workout metrics, including pumps, fatigue, listening preferences, and notes."
   ]
  },
  {
   "cell_type": "code",
   "execution_count": null,
   "id": "12adc6dd",
   "metadata": {},
   "outputs": [],
   "source": [
    "# Function to display a summary of the workout\n",
    "def display_workout_summary(workout_metrics):\n",
    "    print(\"\\nWorkout Summary:\")\n",
    "    print(\"Pumps:\")\n",
    "    for muscle, rating in workout_metrics.metrics[\"pumps\"].items():\n",
    "        print(f\"  {muscle.capitalize()}: {rating}\")\n",
    "    print(\"\\nFatigue Levels:\")\n",
    "    for fatigue, level in workout_metrics.metrics[\"fatigue\"].items():\n",
    "        print(f\"  {fatigue.replace('_', ' ').capitalize()}: {level}\")\n",
    "    print(\"\\nListening Preferences:\")\n",
    "    print(f\"  {workout_metrics.metrics['listening_preferences']}\")\n",
    "    print(\"\\nNotes:\")\n",
    "    print(f\"  {workout_metrics.metrics['notes']}\")"
   ]
  },
  {
   "cell_type": "markdown",
   "id": "5bba9cca",
   "metadata": {},
   "source": [
    "# Example Usage\n",
    "Run the functions to log and analyze workout metrics."
   ]
  },
  {
   "cell_type": "code",
   "execution_count": null,
   "id": "4ac5dd04",
   "metadata": {},
   "outputs": [],
   "source": [
    "# Example usage\n",
    "if __name__ == \"__main__\":\n",
    "    workout_metrics = WorkoutMetrics()\n",
    "    input_pump_ratings(workout_metrics)\n",
    "    input_fatigue_levels(workout_metrics)\n",
    "    log_listening_preferences(workout_metrics)\n",
    "    add_workout_notes(workout_metrics)\n",
    "    display_workout_summary(workout_metrics)"
   ]
  },
  {
   "cell_type": "code",
   "execution_count": null,
   "id": "1ac37cda",
   "metadata": {},
   "outputs": [],
   "source": [
    "# Import the function to test\n",
    "import sys\n",
    "import os\n",
    "sys.path.append(os.path.abspath('../src/utils'))\n",
    "from historical_hevy import parse_workout_description\n",
    "\n",
    "# Real-life example description\n",
    "description = '''\n",
    "Pumps\n",
    "- Scale: Poor, Fair, Good, Great (1-4)\n",
    "- Back: Good, Biceps: Good, Forearms: Great, Abs: Good\n",
    "\n",
    "Fatigue \n",
    "- Scale: Dead, Tired, Fresh, Hyped (1-4)\n",
    "- Pre Workout: Tired\n",
    "- Post Workout: Tired\n",
    "- Mental Fatigue: Dead\n",
    "\n",
    "What I Listened To\n",
    "- Pod Meets World\n",
    "\n",
    "Notes\n",
    "- Late start after a long day after a long week. Really didn’t want to go down and workout but managed to perform as well as I could expect.\n",
    "'''\n",
    "\n",
    "# Test the function\n",
    "pumps, fatigue, notes, listened_to = parse_workout_description(description)\n",
    "\n",
    "# Print the results\n",
    "print('Pumps:', pumps)\n",
    "print('Fatigue:', fatigue)\n",
    "print('Notes:', notes)\n",
    "print('What I Listened To:', listened_to)"
   ]
  }
 ],
 "metadata": {
  "language_info": {
   "name": "python"
  }
 },
 "nbformat": 4,
 "nbformat_minor": 5
}
